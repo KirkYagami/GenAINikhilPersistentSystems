{
 "cells": [
  {
   "cell_type": "code",
   "execution_count": 7,
   "id": "8a660412",
   "metadata": {},
   "outputs": [],
   "source": [
    "# load libraries for NER \n",
    "\n",
    "from transformers import AutoTokenizer, AutoModelForTokenClassification\n",
    "from transformers import pipeline\n",
    "import torch\n"
   ]
  },
  {
   "cell_type": "markdown",
   "id": "f59ad2b6",
   "metadata": {},
   "source": [
    "## NER engine"
   ]
  },
  {
   "cell_type": "code",
   "execution_count": 8,
   "id": "878628a1",
   "metadata": {},
   "outputs": [
    {
     "data": {
      "application/vnd.jupyter.widget-view+json": {
       "model_id": "dcd3f878d97f4ed7a7a33a96eab3b62c",
       "version_major": 2,
       "version_minor": 0
      },
      "text/plain": [
       "tokenizer_config.json:   0%|          | 0.00/59.0 [00:00<?, ?B/s]"
      ]
     },
     "metadata": {},
     "output_type": "display_data"
    },
    {
     "name": "stderr",
     "output_type": "stream",
     "text": [
      "c:\\Users\\NikhilSharma\\.conda\\envs\\llms\\Lib\\site-packages\\huggingface_hub\\file_download.py:140: UserWarning: `huggingface_hub` cache-system uses symlinks by default to efficiently store duplicated files but your machine does not support them in C:\\Users\\NikhilSharma\\.cache\\huggingface\\hub\\models--dslim--bert-base-NER. Caching files will still work but in a degraded version that might require more space on your disk. This warning can be disabled by setting the `HF_HUB_DISABLE_SYMLINKS_WARNING` environment variable. For more details, see https://huggingface.co/docs/huggingface_hub/how-to-cache#limitations.\n",
      "To support symlinks on Windows, you either need to activate Developer Mode or to run Python as an administrator. In order to activate developer mode, see this article: https://docs.microsoft.com/en-us/windows/apps/get-started/enable-your-device-for-development\n",
      "  warnings.warn(message)\n"
     ]
    },
    {
     "data": {
      "application/vnd.jupyter.widget-view+json": {
       "model_id": "bd5475fed17c4f60ab9921e3950c3484",
       "version_major": 2,
       "version_minor": 0
      },
      "text/plain": [
       "config.json:   0%|          | 0.00/829 [00:00<?, ?B/s]"
      ]
     },
     "metadata": {},
     "output_type": "display_data"
    },
    {
     "data": {
      "application/vnd.jupyter.widget-view+json": {
       "model_id": "4fbaf85b4f604ff19efd9360252898d2",
       "version_major": 2,
       "version_minor": 0
      },
      "text/plain": [
       "vocab.txt:   0%|          | 0.00/213k [00:00<?, ?B/s]"
      ]
     },
     "metadata": {},
     "output_type": "display_data"
    },
    {
     "data": {
      "application/vnd.jupyter.widget-view+json": {
       "model_id": "db0790e180fb420c8fb3ce1b9edcb1b8",
       "version_major": 2,
       "version_minor": 0
      },
      "text/plain": [
       "added_tokens.json:   0%|          | 0.00/2.00 [00:00<?, ?B/s]"
      ]
     },
     "metadata": {},
     "output_type": "display_data"
    },
    {
     "data": {
      "application/vnd.jupyter.widget-view+json": {
       "model_id": "5a7b2b41113d4ab3a1e78230deb4ee7d",
       "version_major": 2,
       "version_minor": 0
      },
      "text/plain": [
       "special_tokens_map.json:   0%|          | 0.00/112 [00:00<?, ?B/s]"
      ]
     },
     "metadata": {},
     "output_type": "display_data"
    },
    {
     "data": {
      "application/vnd.jupyter.widget-view+json": {
       "model_id": "f81735ec487e4a5ead0462d4cdf8330c",
       "version_major": 2,
       "version_minor": 0
      },
      "text/plain": [
       "model.safetensors:   0%|          | 0.00/433M [00:00<?, ?B/s]"
      ]
     },
     "metadata": {},
     "output_type": "display_data"
    },
    {
     "name": "stderr",
     "output_type": "stream",
     "text": [
      "Some weights of the model checkpoint at dslim/bert-base-NER were not used when initializing BertForTokenClassification: ['bert.pooler.dense.bias', 'bert.pooler.dense.weight']\n",
      "- This IS expected if you are initializing BertForTokenClassification from the checkpoint of a model trained on another task or with another architecture (e.g. initializing a BertForSequenceClassification model from a BertForPreTraining model).\n",
      "- This IS NOT expected if you are initializing BertForTokenClassification from the checkpoint of a model that you expect to be exactly identical (initializing a BertForSequenceClassification model from a BertForSequenceClassification model).\n",
      "Device set to use cpu\n"
     ]
    }
   ],
   "source": [
    "# init NER engine\n",
    "\n",
    "model_id = 'dslim/bert-base-NER'\n",
    "\n",
    "tokenizer = AutoTokenizer.from_pretrained(model_id)\n",
    "model = AutoModelForTokenClassification.from_pretrained(model_id)\n",
    "\n",
    "# nlp pipeline\n",
    "\n",
    "nlp = pipeline('ner',\n",
    "              model=model,\n",
    "              tokenizer=tokenizer,\n",
    "              aggregation_strategy= 'max',\n",
    "              device= 'cpu') \n",
    "# nlp(\"Bill Gates is the founder of Microsoft\")"
   ]
  },
  {
   "cell_type": "markdown",
   "id": "c9a32c90",
   "metadata": {},
   "source": [
    "The `aggregation_strategy` parameter in the NER pipeline addresses a critical issue that arises from how transformer tokenizers work with named entity recognition tasks.\n",
    "\n",
    "## Why Aggregation Strategy Is Required\n",
    "\n",
    "When using transformers for NER (Named Entity Recognition), there's a fundamental mismatch between:\n",
    "1. How tokenizers split words (into subwords/wordpieces)\n",
    "2. How NER labels need to be applied (typically at the whole word/entity level)\n",
    "\n",
    "### The Problem\n",
    "\n",
    "Let's look at what happens when you process \"Bill Gates\":\n",
    "\n",
    "1. The tokenizer might split this into: [\"Bill\", \"Gate\", \"##s\"]\n",
    "2. Each token gets its own prediction from the model\n",
    "3. But you want one cohesive entity: \"Bill Gates\" as a PERSON\n",
    "\n",
    "Without an aggregation strategy, you'd get separate predictions for each subtoken:\n",
    "- \"Bill\" → PERSON\n",
    "- \"Gate\" → PERSON\n",
    "- \"##s\" → PERSON\n",
    "\n",
    "This creates several issues:\n",
    "- Entity boundaries become unclear\n",
    "- Confidence scores may vary across subtokens\n",
    "- Post-processing becomes necessary to rebuild complete entities\n",
    "\n",
    "### What Aggregation Strategies Do\n",
    "\n",
    "The `aggregation_strategy` parameter tells the pipeline how to combine these subtoken predictions into meaningful entities:\n",
    "\n",
    "- `'none'`: No aggregation (raw predictions for each subtoken)\n",
    "- `'simple'`: Group adjacent tokens with the same entity label\n",
    "- `'first'`: Use the prediction of the first subtoken for the whole word\n",
    "- `'average'`: Average the scores across subtokens\n",
    "- `'max'`: Use the highest confidence prediction from the subtokens\n",
    "\n",
    "### In Our Example\n",
    "\n",
    "```python\n",
    "nlp = pipeline('ner',\n",
    "              model=model,\n",
    "              tokenizer=tokenizer,\n",
    "              aggregation_strategy='max', \n",
    "              device='cpu')\n",
    "```\n",
    "\n",
    "Setting `aggregation_strategy='max'` means:\n",
    "1. For multi-subtoken words/entities, the pipeline will identify all subtokens belonging to the same word\n",
    "2. It will use the prediction with the highest confidence score as the label for the entire word/entity\n",
    "3. The result will be a single prediction for \"Bill Gates\" instead of separate predictions for each subtoken\n"
   ]
  },
  {
   "cell_type": "markdown",
   "id": "c56465d0",
   "metadata": {},
   "source": [
    "## Retriever | embed_model"
   ]
  },
  {
   "cell_type": "code",
   "execution_count": null,
   "id": "b5a1cb7c",
   "metadata": {},
   "outputs": [],
   "source": [
    "from sentence_transformers import SentenceTransformer\n",
    "\n",
    "\n",
    "# https://huggingface.co/flax-sentence-embeddings/all_datasets_v3_mpnet-base\n",
    "embed_model = SentenceTransformer(\n",
    "    \"flax-sentence-embeddings/all_datasets_v3_mpnet-base\")"
   ]
  },
  {
   "cell_type": "markdown",
   "id": "1f27b324",
   "metadata": {},
   "source": [
    "The MPNet-base model is larger (110M parameters) and typically more powerful but slower than MiniLM-L6-v2 (around 23M parameters).\n",
    "\n",
    "The MPNet variant was trained on more diverse datasets (\"all_datasets_v3\") and generally achieves higher performance on semantic similarity benchmarks, while MiniLM-L6-v2 is optimized for efficiency with a good balance of speed and accuracy.\n",
    "\n",
    "> The choice between them depends on your specific needs - MPNet for maximum accuracy when computational resources aren't constrained, or MiniLM for faster processing with still very good performance."
   ]
  },
  {
   "cell_type": "code",
   "execution_count": null,
   "id": "13ab0344",
   "metadata": {},
   "outputs": [],
   "source": [
    "from sentence_transformers import SentenceTransformer\n",
    "sentences = [\"This is an example sentence\", \"Each sentence is converted\"]\n",
    "\n",
    "embed_model = SentenceTransformer('sentence-transformers/all-MiniLM-L6-v2')\n",
    "embeddings = embed_model.encode(sentences)\n",
    "print(embeddings)\n"
   ]
  },
  {
   "cell_type": "code",
   "execution_count": null,
   "id": "f002b3a9",
   "metadata": {},
   "outputs": [],
   "source": [
    "\n",
    "def extract_entities(list_of_text):\n",
    "    entities = []\n",
    "    for doc in list_of_text: \n",
    "        entities.append([item['word'] for item in nlp(doc)])\n",
    "        # list of entities for 1 doc\n",
    "    return entities"
   ]
  },
  {
   "cell_type": "code",
   "execution_count": 16,
   "id": "01ae6a0b",
   "metadata": {},
   "outputs": [
    {
     "data": {
      "application/vnd.microsoft.datawrangler.viewer.v0+json": {
       "columns": [
        {
         "name": "index",
         "rawType": "int64",
         "type": "integer"
        },
        {
         "name": "category",
         "rawType": "object",
         "type": "string"
        },
        {
         "name": "title",
         "rawType": "object",
         "type": "string"
        },
        {
         "name": "subtitle",
         "rawType": "object",
         "type": "string"
        },
        {
         "name": "subtitle_truncated_flag",
         "rawType": "bool",
         "type": "boolean"
        },
        {
         "name": "title_extended",
         "rawType": "object",
         "type": "string"
        },
        {
         "name": "metadata",
         "rawType": "object",
         "type": "unknown"
        }
       ],
       "conversionMethod": "pd.DataFrame",
       "ref": "e37d7ff4-f780-439a-a541-8cc3b61aaddf",
       "rows": [
        [
         "0",
         "work",
         "\"21 Conversations\" - A fun (and easy) game for teams to get to know each other",
         "A (new?) Icebreaker game to get your team to say all the interesting stuff",
         "False",
         "\"21 Conversations\" - A fun (and easy) game for teams to get to know each otherA (new?) Icebreaker game to get your team to say all the interesting stuff",
         "{'title': '\"21 Conversations\" - A fun (and easy) game for teams to get to know each other', 'subtitle': 'A (new?) Icebreaker game to get your team to say all the interesting stuff', 'category': 'work', 'entities': [['Icebreaker']]}"
        ],
        [
         "1",
         "spirituality",
         "\"Biblical Porn\" at Mars Hill",
         "Author and UW lecturer Jessica Johnson talks about her new book on Mars Hill Church's and Mark Driscoll's evangelical masculinity",
         "False",
         "\"Biblical Porn\" at Mars HillAuthor and UW lecturer Jessica Johnson talks about her new book on Mars Hill Church's and Mark Driscoll's evangelical masculinity",
         "{'title': '\"Biblical Porn\" at Mars Hill', 'subtitle': \"Author and UW lecturer Jessica Johnson talks about her new book on Mars Hill Church's and Mark Driscoll's evangelical masculinity\", 'category': 'spirituality', 'entities': [['Biblical Porn', 'Mars HillAuthor', 'UW', 'Jessica Johnson', 'Mars Hill Church', 'Mark Driscoll']]}"
        ],
        [
         "2",
         "lgbtqia",
         "\"CISGENDER?! Is That A Disease?!\"",
         "Or, a primer in gender vocabulary for the curious-minded",
         "False",
         "\"CISGENDER?! Is That A Disease?!\"Or, a primer in gender vocabulary for the curious-minded",
         "{'title': '\"CISGENDER?! Is That A Disease?!\"', 'subtitle': 'Or, a primer in gender vocabulary for the curious-minded', 'category': 'lgbtqia', 'entities': [[]]}"
        ],
        [
         "4",
         "artificial-intelligence",
         "\"Can I Train my Model on Your Computer?\"",
         "How we waste computational resources and how to stop it.",
         "False",
         "\"Can I Train my Model on Your Computer?\"How we waste computational resources and how to stop it.",
         "{'title': '\"Can I Train my Model on Your Computer?\"', 'subtitle': 'How we waste computational resources and how to stop it.', 'category': 'artificial-intelligence', 'entities': [['Computer']]}"
        ],
        [
         "5",
         "cryptocurrency",
         "\"Cypherpunks and Wall Street\": The Security Token Revolution & Regulation",
         "Bruce Fenton presents at the World Blockchain Forum - and will cryptocurrency bring us to utopia or dystopia?",
         "False",
         "\"Cypherpunks and Wall Street\": The Security Token Revolution & RegulationBruce Fenton presents at the World Blockchain Forum - and will cryptocurrency bring us to utopia or dystopia?",
         "{'title': '\"Cypherpunks and Wall Street\": The Security Token Revolution & Regulation', 'subtitle': 'Bruce Fenton presents at the World Blockchain Forum\\u200a-\\u200aand will cryptocurrency bring us to utopia or dystopia?', 'category': 'cryptocurrency', 'entities': [['Cypherpunks', 'Wall', 'Street', 'Security Token Revolution & RegulationBruce', 'Fenton', 'World Blockchain Forum']]}"
        ],
        [
         "6",
         "politics",
         "\"Diss\" vs. \"Piss\": The Blue Wave and Yellow Trickle in California's Central Valley",
         "Michael Gofman & Matthew Wigler explore how bucking the party line can be key to building a winning coalition in California's 21st District",
         "False",
         "\"Diss\" vs. \"Piss\": The Blue Wave and Yellow Trickle in California's Central ValleyMichael Gofman & Matthew Wigler explore how bucking the party line can be key to building a winning coalition in California's 21st District",
         "{'title': '\"Diss\" vs. \"Piss\": The Blue Wave and Yellow Trickle in California\\'s Central Valley', 'subtitle': \"Michael Gofman & Matthew Wigler explore how bucking the party line can be key to building a winning coalition in California's 21st District\", 'category': 'politics', 'entities': [['Blue Wave', 'Yellow Trickle', 'California', 'Central ValleyMichael', 'Gofman', 'Matthew Wigler', 'California', '21st District']]}"
        ],
        [
         "7",
         "health",
         "\"Doctor, he's gone into shock!\"",
         "You've seen it in movies and on television.  But what does it mean? Here's a Quick & Dirty Guide to Shock.",
         "False",
         "\"Doctor, he's gone into shock!\"You've seen it in movies and on television.  But what does it mean? Here's a Quick & Dirty Guide to Shock.",
         "{'title': '\"Doctor, he\\'s gone into shock!\"', 'subtitle': \"You've seen it in movies and on television.  But what does it mean? Here's a Quick & Dirty Guide to Shock.\", 'category': 'health', 'entities': [['Dirty']]}"
        ],
        [
         "8",
         "culture",
         "\"Happily Ever After: Fairy Tales for Every Child\", or the Underrated HBO Show That Tried to Tackle…",
         "Television shows have an invaluable opportunity, namely that of shaping the way children view the world.",
         "False",
         "\"Happily Ever After: Fairy Tales for Every Child\", or the Underrated HBO Show That Tried to Tackle…Television shows have an invaluable opportunity, namely that of shaping the way children view the world.",
         "{'title': '\"Happily Ever After: Fairy Tales for Every Child\", or the Underrated HBO Show That Tried to Tackle…', 'subtitle': 'Television shows have an invaluable opportunity, namely that of shaping the way children view the world.', 'category': 'culture', 'entities': [['Happily Ever After', 'Fairy Tales for Every Child', 'HBO Show That', 'Television']]}"
        ],
        [
         "9",
         "poetry",
         "\"I Love You\" The Dangerous Toxic Truth",
         "The Big, Smelly Heap of Lies Pretending To Be Affection",
         "False",
         "\"I Love You\" The Dangerous Toxic TruthThe Big, Smelly Heap of Lies Pretending To Be Affection",
         "{'title': '\"I Love You\" The Dangerous Toxic Truth', 'subtitle': 'The Big, Smelly Heap of Lies Pretending To Be Affection', 'category': 'poetry', 'entities': [['You']]}"
        ],
        [
         "10",
         "poetry",
         "\"I would the gods had made thee poetical\": Shakespeare and the world's worst poet",
         "Not all bards are created equal.",
         "False",
         "\"I would the gods had made thee poetical\": Shakespeare and the world's worst poetNot all bards are created equal.",
         "{'title': '\"I would the gods had made thee poetical\": Shakespeare and the world\\'s worst poet', 'subtitle': 'Not all bards are created equal.', 'category': 'poetry', 'entities': [['Shakespeare']]}"
        ],
        [
         "11",
         "culture",
         "\"Killing Eve\" and Women Who Love Murder",
         "Murderinos Assemble!",
         "False",
         "\"Killing Eve\" and Women Who Love MurderMurderinos Assemble!",
         "{'title': '\"Killing Eve\" and Women Who Love Murder', 'subtitle': 'Murderinos Assemble!', 'category': 'culture', 'entities': [['Killing Eve', 'Women', 'Love MurderMurderinos']]}"
        ],
        [
         "12",
         "cryptocurrency",
         "\"Levels\" as an experiment for TCR participation",
         "How can we ensure that new, not-as-wealthy users have an active participation in token-curated registries?",
         "False",
         "\"Levels\" as an experiment for TCR participationHow can we ensure that new, not-as-wealthy users have an active participation in token-curated registries?",
         "{'title': '\"Levels\" as an experiment for TCR participation', 'subtitle': 'How can we ensure that new, not-as-wealthy users have an active participation in token-curated registries?', 'category': 'cryptocurrency', 'entities': [['TCR']]}"
        ],
        [
         "13",
         "true-crime",
         "\"Mama, there's monsters in there.\"",
         "In 1975, a child rode his tricycle down a dead-end dirt road deep in the Maine woods. Then, he inexplicably vanished without a trace.",
         "False",
         "\"Mama, there's monsters in there.\"In 1975, a child rode his tricycle down a dead-end dirt road deep in the Maine woods. Then, he inexplicably vanished without a trace.",
         "{'title': '\"Mama, there\\'s monsters in there.\"', 'subtitle': 'In 1975, a child rode his tricycle down a dead-end dirt road deep in the Maine woods. Then, he inexplicably vanished without a trace.', 'category': 'true-crime', 'entities': [['Maine']]}"
        ],
        [
         "14",
         "sexuality",
         "\"NO\"",
         "This is a story about saying NO. About listening when one says NO. About not using your power over someone to get what you want.",
         "False",
         "\"NO\"This is a story about saying NO. About listening when one says NO. About not using your power over someone to get what you want.",
         "{'title': '\"NO\"', 'subtitle': 'This is a story about saying NO. About listening when one says NO. About not using your power over someone to get what you want.', 'category': 'sexuality', 'entities': [[]]}"
        ],
        [
         "15",
         "family",
         "\"Neecie\"",
         "My big sister Denise, \"Neecie\", had big dreams and wasn't about to let me slow her down.",
         "False",
         "\"Neecie\"My big sister Denise, \"Neecie\", had big dreams and wasn't about to let me slow her down.",
         "{'title': '\"Neecie\"', 'subtitle': 'My big sister Denise, \"Neecie\", had big dreams and wasn\\'t about to let me slow her down.', 'category': 'family', 'entities': [['Denise', 'Neecie']]}"
        ],
        [
         "16",
         "cybersecurity",
         "\"Social threat modeling\": The winds of change are in the air",
         "Structured approaches to looking at software's social risks",
         "False",
         "\"Social threat modeling\": The winds of change are in the airStructured approaches to looking at software's social risks",
         "{'title': '\"Social threat modeling\": The winds of change are in the air', 'subtitle': \"Structured approaches to looking at software's social risks\", 'category': 'cybersecurity', 'entities': [[]]}"
        ],
        [
         "17",
         "relationships",
         "\"The Friend Zone\" Is All In Your Head",
         "Sorry not sorry, guys.",
         "False",
         "\"The Friend Zone\" Is All In Your HeadSorry not sorry, guys.",
         "{'title': '\"The Friend Zone\" Is All In Your Head', 'subtitle': 'Sorry not sorry, guys.', 'category': 'relationships', 'entities': [['Zone', 'Your']]}"
        ],
        [
         "18",
         "culture",
         "\"The Handmaid's Tale\" May Be the Feminist Parable of Our Age, but It's Also a Lot More Than That",
         "Margaret Atwood's most chilling warning is of the consequences when church and state aren't kept at arm's length.",
         "False",
         "\"The Handmaid's Tale\" May Be the Feminist Parable of Our Age, but It's Also a Lot More Than ThatMargaret Atwood's most chilling warning is of the consequences when church and state aren't kept at arm's length.",
         "{'title': '\"The Handmaid\\'s Tale\" May Be the Feminist Parable of Our Age, but It\\'s Also a Lot More Than That', 'subtitle': \"Margaret Atwood's most chilling warning is of the consequences when church and state aren't kept at arm's length.\", 'category': 'culture', 'entities': [[\"The Handmaid ' s Tale\", 'Our Age', 'Atwood']]}"
        ],
        [
         "19",
         "music",
         "\"Too Late For The Intro\" - What makes a great intro track?",
         "Why the first song might make or break an album.",
         "False",
         "\"Too Late For The Intro\" - What makes a great intro track?Why the first song might make or break an album.",
         "{'title': '\"Too Late For The Intro\"\\u200a-\\u200aWhat makes a great intro track?', 'subtitle': 'Why the first song might make or break an album.', 'category': 'music', 'entities': [['Late']]}"
        ]
       ],
       "shape": {
        "columns": 6,
        "rows": 19
       }
      },
      "text/html": [
       "<div>\n",
       "<style scoped>\n",
       "    .dataframe tbody tr th:only-of-type {\n",
       "        vertical-align: middle;\n",
       "    }\n",
       "\n",
       "    .dataframe tbody tr th {\n",
       "        vertical-align: top;\n",
       "    }\n",
       "\n",
       "    .dataframe thead th {\n",
       "        text-align: right;\n",
       "    }\n",
       "</style>\n",
       "<table border=\"1\" class=\"dataframe\">\n",
       "  <thead>\n",
       "    <tr style=\"text-align: right;\">\n",
       "      <th></th>\n",
       "      <th>category</th>\n",
       "      <th>title</th>\n",
       "      <th>subtitle</th>\n",
       "      <th>subtitle_truncated_flag</th>\n",
       "      <th>title_extended</th>\n",
       "      <th>metadata</th>\n",
       "    </tr>\n",
       "  </thead>\n",
       "  <tbody>\n",
       "    <tr>\n",
       "      <th>0</th>\n",
       "      <td>work</td>\n",
       "      <td>\"21 Conversations\" - A fun (and easy) game for...</td>\n",
       "      <td>A (new?) Icebreaker game to get your team to s...</td>\n",
       "      <td>False</td>\n",
       "      <td>\"21 Conversations\" - A fun (and easy) game for...</td>\n",
       "      <td>{'title': '\"21 Conversations\" - A fun (and eas...</td>\n",
       "    </tr>\n",
       "    <tr>\n",
       "      <th>1</th>\n",
       "      <td>spirituality</td>\n",
       "      <td>\"Biblical Porn\" at Mars Hill</td>\n",
       "      <td>Author and UW lecturer Jessica Johnson talks a...</td>\n",
       "      <td>False</td>\n",
       "      <td>\"Biblical Porn\" at Mars HillAuthor and UW lect...</td>\n",
       "      <td>{'title': '\"Biblical Porn\" at Mars Hill', 'sub...</td>\n",
       "    </tr>\n",
       "    <tr>\n",
       "      <th>2</th>\n",
       "      <td>lgbtqia</td>\n",
       "      <td>\"CISGENDER?! Is That A Disease?!\"</td>\n",
       "      <td>Or, a primer in gender vocabulary for the curi...</td>\n",
       "      <td>False</td>\n",
       "      <td>\"CISGENDER?! Is That A Disease?!\"Or, a primer ...</td>\n",
       "      <td>{'title': '\"CISGENDER?! Is That A Disease?!\"',...</td>\n",
       "    </tr>\n",
       "    <tr>\n",
       "      <th>4</th>\n",
       "      <td>artificial-intelligence</td>\n",
       "      <td>\"Can I Train my Model on Your Computer?\"</td>\n",
       "      <td>How we waste computational resources and how t...</td>\n",
       "      <td>False</td>\n",
       "      <td>\"Can I Train my Model on Your Computer?\"How we...</td>\n",
       "      <td>{'title': '\"Can I Train my Model on Your Compu...</td>\n",
       "    </tr>\n",
       "    <tr>\n",
       "      <th>5</th>\n",
       "      <td>cryptocurrency</td>\n",
       "      <td>\"Cypherpunks and Wall Street\": The Security To...</td>\n",
       "      <td>Bruce Fenton presents at the World Blockchain ...</td>\n",
       "      <td>False</td>\n",
       "      <td>\"Cypherpunks and Wall Street\": The Security To...</td>\n",
       "      <td>{'title': '\"Cypherpunks and Wall Street\": The ...</td>\n",
       "    </tr>\n",
       "    <tr>\n",
       "      <th>6</th>\n",
       "      <td>politics</td>\n",
       "      <td>\"Diss\" vs. \"Piss\": The Blue Wave and Yellow Tr...</td>\n",
       "      <td>Michael Gofman &amp; Matthew Wigler explore how bu...</td>\n",
       "      <td>False</td>\n",
       "      <td>\"Diss\" vs. \"Piss\": The Blue Wave and Yellow Tr...</td>\n",
       "      <td>{'title': '\"Diss\" vs. \"Piss\": The Blue Wave an...</td>\n",
       "    </tr>\n",
       "    <tr>\n",
       "      <th>7</th>\n",
       "      <td>health</td>\n",
       "      <td>\"Doctor, he's gone into shock!\"</td>\n",
       "      <td>You've seen it in movies and on television.  B...</td>\n",
       "      <td>False</td>\n",
       "      <td>\"Doctor, he's gone into shock!\"You've seen it ...</td>\n",
       "      <td>{'title': '\"Doctor, he's gone into shock!\"', '...</td>\n",
       "    </tr>\n",
       "    <tr>\n",
       "      <th>8</th>\n",
       "      <td>culture</td>\n",
       "      <td>\"Happily Ever After: Fairy Tales for Every Chi...</td>\n",
       "      <td>Television shows have an invaluable opportunit...</td>\n",
       "      <td>False</td>\n",
       "      <td>\"Happily Ever After: Fairy Tales for Every Chi...</td>\n",
       "      <td>{'title': '\"Happily Ever After: Fairy Tales fo...</td>\n",
       "    </tr>\n",
       "    <tr>\n",
       "      <th>9</th>\n",
       "      <td>poetry</td>\n",
       "      <td>\"I Love You\" The Dangerous Toxic Truth</td>\n",
       "      <td>The Big, Smelly Heap of Lies Pretending To Be ...</td>\n",
       "      <td>False</td>\n",
       "      <td>\"I Love You\" The Dangerous Toxic TruthThe Big,...</td>\n",
       "      <td>{'title': '\"I Love You\" The Dangerous Toxic Tr...</td>\n",
       "    </tr>\n",
       "    <tr>\n",
       "      <th>10</th>\n",
       "      <td>poetry</td>\n",
       "      <td>\"I would the gods had made thee poetical\": Sha...</td>\n",
       "      <td>Not all bards are created equal.</td>\n",
       "      <td>False</td>\n",
       "      <td>\"I would the gods had made thee poetical\": Sha...</td>\n",
       "      <td>{'title': '\"I would the gods had made thee poe...</td>\n",
       "    </tr>\n",
       "    <tr>\n",
       "      <th>11</th>\n",
       "      <td>culture</td>\n",
       "      <td>\"Killing Eve\" and Women Who Love Murder</td>\n",
       "      <td>Murderinos Assemble!</td>\n",
       "      <td>False</td>\n",
       "      <td>\"Killing Eve\" and Women Who Love MurderMurderi...</td>\n",
       "      <td>{'title': '\"Killing Eve\" and Women Who Love Mu...</td>\n",
       "    </tr>\n",
       "    <tr>\n",
       "      <th>12</th>\n",
       "      <td>cryptocurrency</td>\n",
       "      <td>\"Levels\" as an experiment for TCR participation</td>\n",
       "      <td>How can we ensure that new, not-as-wealthy use...</td>\n",
       "      <td>False</td>\n",
       "      <td>\"Levels\" as an experiment for TCR participatio...</td>\n",
       "      <td>{'title': '\"Levels\" as an experiment for TCR p...</td>\n",
       "    </tr>\n",
       "    <tr>\n",
       "      <th>13</th>\n",
       "      <td>true-crime</td>\n",
       "      <td>\"Mama, there's monsters in there.\"</td>\n",
       "      <td>In 1975, a child rode his tricycle down a dead...</td>\n",
       "      <td>False</td>\n",
       "      <td>\"Mama, there's monsters in there.\"In 1975, a c...</td>\n",
       "      <td>{'title': '\"Mama, there's monsters in there.\"'...</td>\n",
       "    </tr>\n",
       "    <tr>\n",
       "      <th>14</th>\n",
       "      <td>sexuality</td>\n",
       "      <td>\"NO\"</td>\n",
       "      <td>This is a story about saying NO. About listeni...</td>\n",
       "      <td>False</td>\n",
       "      <td>\"NO\"This is a story about saying NO. About lis...</td>\n",
       "      <td>{'title': '\"NO\"', 'subtitle': 'This is a story...</td>\n",
       "    </tr>\n",
       "    <tr>\n",
       "      <th>15</th>\n",
       "      <td>family</td>\n",
       "      <td>\"Neecie\"</td>\n",
       "      <td>My big sister Denise, \"Neecie\", had big dreams...</td>\n",
       "      <td>False</td>\n",
       "      <td>\"Neecie\"My big sister Denise, \"Neecie\", had bi...</td>\n",
       "      <td>{'title': '\"Neecie\"', 'subtitle': 'My big sist...</td>\n",
       "    </tr>\n",
       "    <tr>\n",
       "      <th>16</th>\n",
       "      <td>cybersecurity</td>\n",
       "      <td>\"Social threat modeling\": The winds of change ...</td>\n",
       "      <td>Structured approaches to looking at software's...</td>\n",
       "      <td>False</td>\n",
       "      <td>\"Social threat modeling\": The winds of change ...</td>\n",
       "      <td>{'title': '\"Social threat modeling\": The winds...</td>\n",
       "    </tr>\n",
       "    <tr>\n",
       "      <th>17</th>\n",
       "      <td>relationships</td>\n",
       "      <td>\"The Friend Zone\" Is All In Your Head</td>\n",
       "      <td>Sorry not sorry, guys.</td>\n",
       "      <td>False</td>\n",
       "      <td>\"The Friend Zone\" Is All In Your HeadSorry not...</td>\n",
       "      <td>{'title': '\"The Friend Zone\" Is All In Your He...</td>\n",
       "    </tr>\n",
       "    <tr>\n",
       "      <th>18</th>\n",
       "      <td>culture</td>\n",
       "      <td>\"The Handmaid's Tale\" May Be the Feminist Para...</td>\n",
       "      <td>Margaret Atwood's most chilling warning is of ...</td>\n",
       "      <td>False</td>\n",
       "      <td>\"The Handmaid's Tale\" May Be the Feminist Para...</td>\n",
       "      <td>{'title': '\"The Handmaid's Tale\" May Be the Fe...</td>\n",
       "    </tr>\n",
       "    <tr>\n",
       "      <th>19</th>\n",
       "      <td>music</td>\n",
       "      <td>\"Too Late For The Intro\" - What makes a great ...</td>\n",
       "      <td>Why the first song might make or break an album.</td>\n",
       "      <td>False</td>\n",
       "      <td>\"Too Late For The Intro\" - What makes a great ...</td>\n",
       "      <td>{'title': '\"Too Late For The Intro\" - What mak...</td>\n",
       "    </tr>\n",
       "  </tbody>\n",
       "</table>\n",
       "</div>"
      ],
      "text/plain": [
       "                   category  \\\n",
       "0                      work   \n",
       "1              spirituality   \n",
       "2                   lgbtqia   \n",
       "4   artificial-intelligence   \n",
       "5            cryptocurrency   \n",
       "6                  politics   \n",
       "7                    health   \n",
       "8                   culture   \n",
       "9                    poetry   \n",
       "10                   poetry   \n",
       "11                  culture   \n",
       "12           cryptocurrency   \n",
       "13               true-crime   \n",
       "14                sexuality   \n",
       "15                   family   \n",
       "16            cybersecurity   \n",
       "17            relationships   \n",
       "18                  culture   \n",
       "19                    music   \n",
       "\n",
       "                                                title  \\\n",
       "0   \"21 Conversations\" - A fun (and easy) game for...   \n",
       "1                        \"Biblical Porn\" at Mars Hill   \n",
       "2                   \"CISGENDER?! Is That A Disease?!\"   \n",
       "4            \"Can I Train my Model on Your Computer?\"   \n",
       "5   \"Cypherpunks and Wall Street\": The Security To...   \n",
       "6   \"Diss\" vs. \"Piss\": The Blue Wave and Yellow Tr...   \n",
       "7                     \"Doctor, he's gone into shock!\"   \n",
       "8   \"Happily Ever After: Fairy Tales for Every Chi...   \n",
       "9              \"I Love You\" The Dangerous Toxic Truth   \n",
       "10  \"I would the gods had made thee poetical\": Sha...   \n",
       "11            \"Killing Eve\" and Women Who Love Murder   \n",
       "12    \"Levels\" as an experiment for TCR participation   \n",
       "13                 \"Mama, there's monsters in there.\"   \n",
       "14                                               \"NO\"   \n",
       "15                                           \"Neecie\"   \n",
       "16  \"Social threat modeling\": The winds of change ...   \n",
       "17              \"The Friend Zone\" Is All In Your Head   \n",
       "18  \"The Handmaid's Tale\" May Be the Feminist Para...   \n",
       "19  \"Too Late For The Intro\" - What makes a great ...   \n",
       "\n",
       "                                             subtitle  \\\n",
       "0   A (new?) Icebreaker game to get your team to s...   \n",
       "1   Author and UW lecturer Jessica Johnson talks a...   \n",
       "2   Or, a primer in gender vocabulary for the curi...   \n",
       "4   How we waste computational resources and how t...   \n",
       "5   Bruce Fenton presents at the World Blockchain ...   \n",
       "6   Michael Gofman & Matthew Wigler explore how bu...   \n",
       "7   You've seen it in movies and on television.  B...   \n",
       "8   Television shows have an invaluable opportunit...   \n",
       "9   The Big, Smelly Heap of Lies Pretending To Be ...   \n",
       "10                   Not all bards are created equal.   \n",
       "11                               Murderinos Assemble!   \n",
       "12  How can we ensure that new, not-as-wealthy use...   \n",
       "13  In 1975, a child rode his tricycle down a dead...   \n",
       "14  This is a story about saying NO. About listeni...   \n",
       "15  My big sister Denise, \"Neecie\", had big dreams...   \n",
       "16  Structured approaches to looking at software's...   \n",
       "17                             Sorry not sorry, guys.   \n",
       "18  Margaret Atwood's most chilling warning is of ...   \n",
       "19   Why the first song might make or break an album.   \n",
       "\n",
       "    subtitle_truncated_flag  \\\n",
       "0                     False   \n",
       "1                     False   \n",
       "2                     False   \n",
       "4                     False   \n",
       "5                     False   \n",
       "6                     False   \n",
       "7                     False   \n",
       "8                     False   \n",
       "9                     False   \n",
       "10                    False   \n",
       "11                    False   \n",
       "12                    False   \n",
       "13                    False   \n",
       "14                    False   \n",
       "15                    False   \n",
       "16                    False   \n",
       "17                    False   \n",
       "18                    False   \n",
       "19                    False   \n",
       "\n",
       "                                       title_extended  \\\n",
       "0   \"21 Conversations\" - A fun (and easy) game for...   \n",
       "1   \"Biblical Porn\" at Mars HillAuthor and UW lect...   \n",
       "2   \"CISGENDER?! Is That A Disease?!\"Or, a primer ...   \n",
       "4   \"Can I Train my Model on Your Computer?\"How we...   \n",
       "5   \"Cypherpunks and Wall Street\": The Security To...   \n",
       "6   \"Diss\" vs. \"Piss\": The Blue Wave and Yellow Tr...   \n",
       "7   \"Doctor, he's gone into shock!\"You've seen it ...   \n",
       "8   \"Happily Ever After: Fairy Tales for Every Chi...   \n",
       "9   \"I Love You\" The Dangerous Toxic TruthThe Big,...   \n",
       "10  \"I would the gods had made thee poetical\": Sha...   \n",
       "11  \"Killing Eve\" and Women Who Love MurderMurderi...   \n",
       "12  \"Levels\" as an experiment for TCR participatio...   \n",
       "13  \"Mama, there's monsters in there.\"In 1975, a c...   \n",
       "14  \"NO\"This is a story about saying NO. About lis...   \n",
       "15  \"Neecie\"My big sister Denise, \"Neecie\", had bi...   \n",
       "16  \"Social threat modeling\": The winds of change ...   \n",
       "17  \"The Friend Zone\" Is All In Your HeadSorry not...   \n",
       "18  \"The Handmaid's Tale\" May Be the Feminist Para...   \n",
       "19  \"Too Late For The Intro\" - What makes a great ...   \n",
       "\n",
       "                                             metadata  \n",
       "0   {'title': '\"21 Conversations\" - A fun (and eas...  \n",
       "1   {'title': '\"Biblical Porn\" at Mars Hill', 'sub...  \n",
       "2   {'title': '\"CISGENDER?! Is That A Disease?!\"',...  \n",
       "4   {'title': '\"Can I Train my Model on Your Compu...  \n",
       "5   {'title': '\"Cypherpunks and Wall Street\": The ...  \n",
       "6   {'title': '\"Diss\" vs. \"Piss\": The Blue Wave an...  \n",
       "7   {'title': '\"Doctor, he's gone into shock!\"', '...  \n",
       "8   {'title': '\"Happily Ever After: Fairy Tales fo...  \n",
       "9   {'title': '\"I Love You\" The Dangerous Toxic Tr...  \n",
       "10  {'title': '\"I would the gods had made thee poe...  \n",
       "11  {'title': '\"Killing Eve\" and Women Who Love Mu...  \n",
       "12  {'title': '\"Levels\" as an experiment for TCR p...  \n",
       "13  {'title': '\"Mama, there's monsters in there.\"'...  \n",
       "14  {'title': '\"NO\"', 'subtitle': 'This is a story...  \n",
       "15  {'title': '\"Neecie\"', 'subtitle': 'My big sist...  \n",
       "16  {'title': '\"Social threat modeling\": The winds...  \n",
       "17  {'title': '\"The Friend Zone\" Is All In Your He...  \n",
       "18  {'title': '\"The Handmaid's Tale\" May Be the Fe...  \n",
       "19  {'title': '\"Too Late For The Intro\" - What mak...  "
      ]
     },
     "execution_count": 16,
     "metadata": {},
     "output_type": "execute_result"
    }
   ],
   "source": [
    "import pandas as pd \n",
    "def prepare_medium_articles_data(path):\n",
    "    df = pd.read_csv(path,nrows=20)\n",
    "    df = df.dropna()\n",
    "    df = df[~df[\"subtitle_truncated_flag\"]]\n",
    "    df['title_extended'] = df['title'] + df['subtitle']\n",
    "\n",
    "\n",
    "\n",
    "    df['metadata'] = df.apply(lambda x: {\n",
    "        'title' : x['title'],\n",
    "        'subtitle': x['subtitle'],\n",
    "        'category': x['category'],\n",
    "        'entities': extract_entities([x['title_extended']])\n",
    "        }, axis=1)\n",
    "    \n",
    "    # ids = [f\"article{i}\" for i in range(df.shape[0])]\n",
    "    # documents = df[\"title_extended\"].to_list()\n",
    "    # metadatas = df.drop(\"title_extended\", axis=1).to_dict(orient=\"records\") \n",
    "\n",
    "    return df\n",
    "\n",
    "    # return {\"ids\": ids, \"documents\": documents, \"metadatas\": metadatas}\n",
    "\n",
    "\n",
    "df_out = prepare_medium_articles_data(r\"C:\\development\\01 GenAI Dev\\dev-genAI\\Project01-SemanticSearch\\data\\medium_post_titles.csv\")\n",
    "\n",
    "df_out\n",
    "\n"
   ]
  },
  {
   "cell_type": "code",
   "execution_count": 5,
   "id": "7f01b525",
   "metadata": {},
   "outputs": [],
   "source": [
    "df = pd.read_csv(r\"C:\\development\\01 GenAI Dev\\dev-genAI\\Project01-SemanticSearch\\data\\medium_post_titles.csv\",nrows=10000)"
   ]
  },
  {
   "cell_type": "code",
   "execution_count": null,
   "id": "e0a56590",
   "metadata": {},
   "outputs": [],
   "source": [
    "query = [\"What are the most useful medium articles related to Rut Programming\"]\n",
    "\n",
    "where = {'entities': {'$in':''}}"
   ]
  },
  {
   "cell_type": "code",
   "execution_count": null,
   "id": "8a2f015b",
   "metadata": {},
   "outputs": [],
   "source": []
  },
  {
   "cell_type": "code",
   "execution_count": 17,
   "id": "ca34326d",
   "metadata": {},
   "outputs": [
    {
     "data": {
      "text/plain": [
       "[{'entity_group': 'PER',\n",
       "  'score': 0.99256885,\n",
       "  'word': 'Elon Musk',\n",
       "  'start': 0,\n",
       "  'end': 9},\n",
       " {'entity_group': 'ORG',\n",
       "  'score': 0.9068927,\n",
       "  'word': 'Tesla',\n",
       "  'start': 32,\n",
       "  'end': 37},\n",
       " {'entity_group': 'ORG',\n",
       "  'score': 0.9687877,\n",
       "  'word': 'SpaceX',\n",
       "  'start': 42,\n",
       "  'end': 48}]"
      ]
     },
     "execution_count": 17,
     "metadata": {},
     "output_type": "execute_result"
    }
   ],
   "source": [
    "nlp(\"Elon Musk is a good guy. He has Tesla and SpaceX\")"
   ]
  },
  {
   "cell_type": "code",
   "execution_count": null,
   "id": "fc158948",
   "metadata": {},
   "outputs": [],
   "source": []
  },
  {
   "cell_type": "code",
   "execution_count": 15,
   "id": "1a14ea86",
   "metadata": {},
   "outputs": [
    {
     "data": {
      "text/plain": [
       "[['Elon Musk', 'Tesla', 'SpaceX']]"
      ]
     },
     "execution_count": 15,
     "metadata": {},
     "output_type": "execute_result"
    }
   ],
   "source": [
    "extract_entities([\"Elon Musk is a good guy. He has Tesla and SpaceX\"])"
   ]
  },
  {
   "cell_type": "code",
   "execution_count": null,
   "id": "3906067b",
   "metadata": {},
   "outputs": [],
   "source": []
  },
  {
   "cell_type": "code",
   "execution_count": null,
   "id": "cd8f979c",
   "metadata": {},
   "outputs": [],
   "source": []
  }
 ],
 "metadata": {
  "kernelspec": {
   "display_name": "Python 3",
   "language": "python",
   "name": "python3"
  },
  "language_info": {
   "codemirror_mode": {
    "name": "ipython",
    "version": 3
   },
   "file_extension": ".py",
   "mimetype": "text/x-python",
   "name": "python",
   "nbconvert_exporter": "python",
   "pygments_lexer": "ipython3",
   "version": "3.11.11"
  }
 },
 "nbformat": 4,
 "nbformat_minor": 5
}
