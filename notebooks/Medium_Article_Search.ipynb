{
 "cells": [
  {
   "cell_type": "markdown",
   "id": "88f36011",
   "metadata": {},
   "source": [
    "# Medium Article Semantic Search by Title+Subtitle"
   ]
  },
  {
   "cell_type": "markdown",
   "id": "4edfecf5",
   "metadata": {},
   "source": [
    "### Load Data"
   ]
  },
  {
   "cell_type": "code",
   "execution_count": 1,
   "id": "9a0599fd",
   "metadata": {},
   "outputs": [],
   "source": [
    "import pandas as pd"
   ]
  },
  {
   "cell_type": "code",
   "execution_count": 2,
   "id": "0dea2982",
   "metadata": {},
   "outputs": [],
   "source": [
    "data = pd.read_csv(\"data/medium_post_titles.csv\", nrows=100)\n",
    "# data source: https://www.kaggle.com/datasets/nulldata/medium-post-titles"
   ]
  },
  {
   "cell_type": "code",
   "execution_count": 3,
   "id": "4d3fe8ee",
   "metadata": {},
   "outputs": [
    {
     "data": {
      "application/vnd.microsoft.datawrangler.viewer.v0+json": {
       "columns": [
        {
         "name": "index",
         "rawType": "int64",
         "type": "integer"
        },
        {
         "name": "category",
         "rawType": "object",
         "type": "string"
        },
        {
         "name": "title",
         "rawType": "object",
         "type": "string"
        },
        {
         "name": "subtitle",
         "rawType": "object",
         "type": "unknown"
        },
        {
         "name": "subtitle_truncated_flag",
         "rawType": "bool",
         "type": "boolean"
        }
       ],
       "conversionMethod": "pd.DataFrame",
       "ref": "27c8ebb3-9608-4868-84bf-26668379f131",
       "rows": [
        [
         "0",
         "work",
         "\"21 Conversations\" - A fun (and easy) game for teams to get to know each other",
         "A (new?) Icebreaker game to get your team to say all the interesting stuff",
         "False"
        ],
        [
         "1",
         "spirituality",
         "\"Biblical Porn\" at Mars Hill",
         "Author and UW lecturer Jessica Johnson talks about her new book on Mars Hill Church's and Mark Driscoll's evangelical masculinity",
         "False"
        ],
        [
         "2",
         "lgbtqia",
         "\"CISGENDER?! Is That A Disease?!\"",
         "Or, a primer in gender vocabulary for the curious-minded",
         "False"
        ],
        [
         "3",
         "equality",
         "\"Call me Nat Love\" :Black Cowboys and the Frontiers of American Freedom",
         null,
         "False"
        ],
        [
         "4",
         "artificial-intelligence",
         "\"Can I Train my Model on Your Computer?\"",
         "How we waste computational resources and how to stop it.",
         "False"
        ]
       ],
       "shape": {
        "columns": 4,
        "rows": 5
       }
      },
      "text/html": [
       "<div>\n",
       "<style scoped>\n",
       "    .dataframe tbody tr th:only-of-type {\n",
       "        vertical-align: middle;\n",
       "    }\n",
       "\n",
       "    .dataframe tbody tr th {\n",
       "        vertical-align: top;\n",
       "    }\n",
       "\n",
       "    .dataframe thead th {\n",
       "        text-align: right;\n",
       "    }\n",
       "</style>\n",
       "<table border=\"1\" class=\"dataframe\">\n",
       "  <thead>\n",
       "    <tr style=\"text-align: right;\">\n",
       "      <th></th>\n",
       "      <th>category</th>\n",
       "      <th>title</th>\n",
       "      <th>subtitle</th>\n",
       "      <th>subtitle_truncated_flag</th>\n",
       "    </tr>\n",
       "  </thead>\n",
       "  <tbody>\n",
       "    <tr>\n",
       "      <th>0</th>\n",
       "      <td>work</td>\n",
       "      <td>\"21 Conversations\" - A fun (and easy) game for...</td>\n",
       "      <td>A (new?) Icebreaker game to get your team to s...</td>\n",
       "      <td>False</td>\n",
       "    </tr>\n",
       "    <tr>\n",
       "      <th>1</th>\n",
       "      <td>spirituality</td>\n",
       "      <td>\"Biblical Porn\" at Mars Hill</td>\n",
       "      <td>Author and UW lecturer Jessica Johnson talks a...</td>\n",
       "      <td>False</td>\n",
       "    </tr>\n",
       "    <tr>\n",
       "      <th>2</th>\n",
       "      <td>lgbtqia</td>\n",
       "      <td>\"CISGENDER?! Is That A Disease?!\"</td>\n",
       "      <td>Or, a primer in gender vocabulary for the curi...</td>\n",
       "      <td>False</td>\n",
       "    </tr>\n",
       "    <tr>\n",
       "      <th>3</th>\n",
       "      <td>equality</td>\n",
       "      <td>\"Call me Nat Love\" :Black Cowboys and the Fron...</td>\n",
       "      <td>NaN</td>\n",
       "      <td>False</td>\n",
       "    </tr>\n",
       "    <tr>\n",
       "      <th>4</th>\n",
       "      <td>artificial-intelligence</td>\n",
       "      <td>\"Can I Train my Model on Your Computer?\"</td>\n",
       "      <td>How we waste computational resources and how t...</td>\n",
       "      <td>False</td>\n",
       "    </tr>\n",
       "  </tbody>\n",
       "</table>\n",
       "</div>"
      ],
      "text/plain": [
       "                  category                                              title  \\\n",
       "0                     work  \"21 Conversations\" - A fun (and easy) game for...   \n",
       "1             spirituality                       \"Biblical Porn\" at Mars Hill   \n",
       "2                  lgbtqia                  \"CISGENDER?! Is That A Disease?!\"   \n",
       "3                 equality  \"Call me Nat Love\" :Black Cowboys and the Fron...   \n",
       "4  artificial-intelligence           \"Can I Train my Model on Your Computer?\"   \n",
       "\n",
       "                                            subtitle  subtitle_truncated_flag  \n",
       "0  A (new?) Icebreaker game to get your team to s...                    False  \n",
       "1  Author and UW lecturer Jessica Johnson talks a...                    False  \n",
       "2  Or, a primer in gender vocabulary for the curi...                    False  \n",
       "3                                                NaN                    False  \n",
       "4  How we waste computational resources and how t...                    False  "
      ]
     },
     "execution_count": 3,
     "metadata": {},
     "output_type": "execute_result"
    }
   ],
   "source": [
    "df = data.copy()\n",
    "df.head()"
   ]
  },
  {
   "cell_type": "code",
   "execution_count": 5,
   "id": "2564d7d0",
   "metadata": {},
   "outputs": [],
   "source": [
    "# df['category'].value_counts()"
   ]
  },
  {
   "cell_type": "code",
   "execution_count": 6,
   "id": "f4ce972b",
   "metadata": {},
   "outputs": [
    {
     "data": {
      "text/plain": [
       "subtitle_truncated_flag\n",
       "False    89\n",
       "True     11\n",
       "Name: count, dtype: int64"
      ]
     },
     "execution_count": 6,
     "metadata": {},
     "output_type": "execute_result"
    }
   ],
   "source": [
    "df[\"subtitle_truncated_flag\"].value_counts()"
   ]
  },
  {
   "cell_type": "markdown",
   "id": "58e061d3",
   "metadata": {},
   "source": [
    "### Data Cleanup"
   ]
  },
  {
   "cell_type": "code",
   "execution_count": 7,
   "id": "df9c3374",
   "metadata": {},
   "outputs": [
    {
     "data": {
      "text/plain": [
       "category                   0\n",
       "title                      0\n",
       "subtitle                   1\n",
       "subtitle_truncated_flag    0\n",
       "dtype: int64"
      ]
     },
     "execution_count": 7,
     "metadata": {},
     "output_type": "execute_result"
    }
   ],
   "source": [
    "df.isna().sum()"
   ]
  },
  {
   "cell_type": "code",
   "execution_count": 8,
   "id": "ba8e458b",
   "metadata": {},
   "outputs": [],
   "source": [
    "df = df.dropna()"
   ]
  },
  {
   "cell_type": "code",
   "execution_count": 9,
   "id": "de073efc",
   "metadata": {},
   "outputs": [
    {
     "data": {
      "application/vnd.microsoft.datawrangler.viewer.v0+json": {
       "columns": [
        {
         "name": "index",
         "rawType": "int64",
         "type": "integer"
        },
        {
         "name": "category",
         "rawType": "object",
         "type": "string"
        },
        {
         "name": "title",
         "rawType": "object",
         "type": "string"
        },
        {
         "name": "subtitle",
         "rawType": "object",
         "type": "string"
        },
        {
         "name": "subtitle_truncated_flag",
         "rawType": "bool",
         "type": "boolean"
        }
       ],
       "conversionMethod": "pd.DataFrame",
       "ref": "3cf1cfc6-0873-44e0-99c3-49d134ad69eb",
       "rows": [
        [
         "0",
         "work",
         "\"21 Conversations\" - A fun (and easy) game for teams to get to know each other",
         "A (new?) Icebreaker game to get your team to say all the interesting stuff",
         "False"
        ],
        [
         "1",
         "spirituality",
         "\"Biblical Porn\" at Mars Hill",
         "Author and UW lecturer Jessica Johnson talks about her new book on Mars Hill Church's and Mark Driscoll's evangelical masculinity",
         "False"
        ],
        [
         "2",
         "lgbtqia",
         "\"CISGENDER?! Is That A Disease?!\"",
         "Or, a primer in gender vocabulary for the curious-minded",
         "False"
        ],
        [
         "4",
         "artificial-intelligence",
         "\"Can I Train my Model on Your Computer?\"",
         "How we waste computational resources and how to stop it.",
         "False"
        ],
        [
         "5",
         "cryptocurrency",
         "\"Cypherpunks and Wall Street\": The Security Token Revolution & Regulation",
         "Bruce Fenton presents at the World Blockchain Forum - and will cryptocurrency bring us to utopia or dystopia?",
         "False"
        ]
       ],
       "shape": {
        "columns": 4,
        "rows": 5
       }
      },
      "text/html": [
       "<div>\n",
       "<style scoped>\n",
       "    .dataframe tbody tr th:only-of-type {\n",
       "        vertical-align: middle;\n",
       "    }\n",
       "\n",
       "    .dataframe tbody tr th {\n",
       "        vertical-align: top;\n",
       "    }\n",
       "\n",
       "    .dataframe thead th {\n",
       "        text-align: right;\n",
       "    }\n",
       "</style>\n",
       "<table border=\"1\" class=\"dataframe\">\n",
       "  <thead>\n",
       "    <tr style=\"text-align: right;\">\n",
       "      <th></th>\n",
       "      <th>category</th>\n",
       "      <th>title</th>\n",
       "      <th>subtitle</th>\n",
       "      <th>subtitle_truncated_flag</th>\n",
       "    </tr>\n",
       "  </thead>\n",
       "  <tbody>\n",
       "    <tr>\n",
       "      <th>0</th>\n",
       "      <td>work</td>\n",
       "      <td>\"21 Conversations\" - A fun (and easy) game for...</td>\n",
       "      <td>A (new?) Icebreaker game to get your team to s...</td>\n",
       "      <td>False</td>\n",
       "    </tr>\n",
       "    <tr>\n",
       "      <th>1</th>\n",
       "      <td>spirituality</td>\n",
       "      <td>\"Biblical Porn\" at Mars Hill</td>\n",
       "      <td>Author and UW lecturer Jessica Johnson talks a...</td>\n",
       "      <td>False</td>\n",
       "    </tr>\n",
       "    <tr>\n",
       "      <th>2</th>\n",
       "      <td>lgbtqia</td>\n",
       "      <td>\"CISGENDER?! Is That A Disease?!\"</td>\n",
       "      <td>Or, a primer in gender vocabulary for the curi...</td>\n",
       "      <td>False</td>\n",
       "    </tr>\n",
       "    <tr>\n",
       "      <th>4</th>\n",
       "      <td>artificial-intelligence</td>\n",
       "      <td>\"Can I Train my Model on Your Computer?\"</td>\n",
       "      <td>How we waste computational resources and how t...</td>\n",
       "      <td>False</td>\n",
       "    </tr>\n",
       "    <tr>\n",
       "      <th>5</th>\n",
       "      <td>cryptocurrency</td>\n",
       "      <td>\"Cypherpunks and Wall Street\": The Security To...</td>\n",
       "      <td>Bruce Fenton presents at the World Blockchain ...</td>\n",
       "      <td>False</td>\n",
       "    </tr>\n",
       "  </tbody>\n",
       "</table>\n",
       "</div>"
      ],
      "text/plain": [
       "                  category                                              title  \\\n",
       "0                     work  \"21 Conversations\" - A fun (and easy) game for...   \n",
       "1             spirituality                       \"Biblical Porn\" at Mars Hill   \n",
       "2                  lgbtqia                  \"CISGENDER?! Is That A Disease?!\"   \n",
       "4  artificial-intelligence           \"Can I Train my Model on Your Computer?\"   \n",
       "5           cryptocurrency  \"Cypherpunks and Wall Street\": The Security To...   \n",
       "\n",
       "                                            subtitle  subtitle_truncated_flag  \n",
       "0  A (new?) Icebreaker game to get your team to s...                    False  \n",
       "1  Author and UW lecturer Jessica Johnson talks a...                    False  \n",
       "2  Or, a primer in gender vocabulary for the curi...                    False  \n",
       "4  How we waste computational resources and how t...                    False  \n",
       "5  Bruce Fenton presents at the World Blockchain ...                    False  "
      ]
     },
     "execution_count": 9,
     "metadata": {},
     "output_type": "execute_result"
    }
   ],
   "source": [
    "\n",
    "df = df[~df[\"subtitle_truncated_flag\"]]\n",
    "df.head()\n"
   ]
  },
  {
   "cell_type": "code",
   "execution_count": 10,
   "id": "ba1fbd0f",
   "metadata": {},
   "outputs": [
    {
     "name": "stdout",
     "output_type": "stream",
     "text": [
      "<class 'pandas.core.frame.DataFrame'>\n",
      "Index: 88 entries, 0 to 99\n",
      "Data columns (total 4 columns):\n",
      " #   Column                   Non-Null Count  Dtype \n",
      "---  ------                   --------------  ----- \n",
      " 0   category                 88 non-null     object\n",
      " 1   title                    88 non-null     object\n",
      " 2   subtitle                 88 non-null     object\n",
      " 3   subtitle_truncated_flag  88 non-null     bool  \n",
      "dtypes: bool(1), object(3)\n",
      "memory usage: 2.8+ KB\n"
     ]
    }
   ],
   "source": [
    "df.info()"
   ]
  },
  {
   "cell_type": "code",
   "execution_count": 18,
   "id": "96779785",
   "metadata": {},
   "outputs": [
    {
     "name": "stdout",
     "output_type": "stream",
     "text": [
      "<class 'pandas.core.frame.DataFrame'>\n",
      "Index: 6211 entries, 0 to 9999\n",
      "Data columns (total 4 columns):\n",
      " #   Column                   Non-Null Count  Dtype \n",
      "---  ------                   --------------  ----- \n",
      " 0   category                 6211 non-null   object\n",
      " 1   title                    6211 non-null   object\n",
      " 2   subtitle                 6211 non-null   object\n",
      " 3   subtitle_truncated_flag  6211 non-null   bool  \n",
      "dtypes: bool(1), object(3)\n",
      "memory usage: 200.2+ KB\n"
     ]
    }
   ],
   "source": [
    "df.info()"
   ]
  },
  {
   "cell_type": "code",
   "execution_count": null,
   "id": "130d79b4",
   "metadata": {},
   "outputs": [],
   "source": [
    "\n",
    "df['title_extended'] = df['title'] + df['subtitle']"
   ]
  },
  {
   "cell_type": "code",
   "execution_count": null,
   "id": "ad27cbd5",
   "metadata": {},
   "outputs": [],
   "source": [
    "# df.head()\n",
    "# df['category'].nunique()\n",
    "# df.shape"
   ]
  },
  {
   "cell_type": "markdown",
   "id": "44a88b1c",
   "metadata": {},
   "source": [
    "### Prep for Upsert"
   ]
  },
  {
   "cell_type": "code",
   "execution_count": 28,
   "id": "28b46a73-4004-4eb1-a8df-2e2c8bc2a0fc",
   "metadata": {},
   "outputs": [],
   "source": [
    "import pathlib\n",
    "import chromadb\n",
    "from chromadb.utils import embedding_functions\n",
    "from more_itertools import batched\n",
    "\n",
    "def build_chroma_collection(\n",
    "    chroma_path: pathlib.Path,\n",
    "    collection_name: str,\n",
    "    embedding_func_name: str,\n",
    "    ids: list[str],\n",
    "    documents: list[str],\n",
    "    metadatas: list[dict],\n",
    "    distance_func_name: str = \"cosine\",\n",
    "):\n",
    "    \"\"\"Create a ChromaDB collection\"\"\"\n",
    "\n",
    "    chroma_client = chromadb.PersistentClient(chroma_path)\n",
    "\n",
    "    embedding_func = embedding_functions.SentenceTransformerEmbeddingFunction(\n",
    "        model_name=embedding_func_name\n",
    "    )\n",
    "\n",
    "    collection = chroma_client.create_collection(\n",
    "        name=collection_name,\n",
    "        embedding_function=embedding_func,\n",
    "        metadata={\"hnsw:space\": distance_func_name},\n",
    "    )\n",
    "\n",
    "    document_indices = list(range(len(documents)))\n",
    "\n",
    "    for batch in batched(document_indices, 166):\n",
    "        start_idx = batch[0]\n",
    "        end_idx = batch[-1]\n",
    "\n",
    "        collection.add(\n",
    "            ids=ids[start_idx:end_idx],\n",
    "            documents=documents[start_idx:end_idx],\n",
    "            metadatas=metadatas[start_idx:end_idx],\n",
    "        )"
   ]
  },
  {
   "cell_type": "code",
   "execution_count": null,
   "id": "5c8989ab",
   "metadata": {},
   "outputs": [],
   "source": [
    "\n",
    "def prepare_medium_articles_data(path):\n",
    "    df = pd.read_csv(path,nrows=10000)\n",
    "    df = df.dropna()\n",
    "    df = df[~df[\"subtitle_truncated_flag\"]]\n",
    "    df['title_extended'] = df['title'] + df['subtitle']\n",
    "\n",
    "    \n",
    "    ids = [f\"article{i}\" for i in range(df.shape[0])]\n",
    "    documents = df[\"title_extended\"].to_list()\n",
    "    metadatas = df.drop(\"title_extended\", axis=1).to_dict(orient=\"records\") \n",
    "\n",
    "    return {\"ids\": ids, \"documents\": documents, \"metadatas\": metadatas}\n",
    "\n",
    "\n",
    "articles_dict = prepare_medium_articles_data(\"data/medium_post_titles.csv\")\n",
    "\n",
    "\n",
    "articles_dict.keys()"
   ]
  },
  {
   "cell_type": "code",
   "execution_count": 31,
   "id": "37e50d6f",
   "metadata": {},
   "outputs": [],
   "source": [
    "import chromadb\n",
    "from chromadb.utils import embedding_functions\n",
    "\n",
    "DATA_PATH = \"data/medium_post_titles.csv\"\n",
    "CHROMA_PATH = \"medium_articles_embeddings_\"\n",
    "EMBEDDING_FUNC_NAME = \"multi-qa-MiniLM-L6-cos-v1\"\n",
    "COLLECTION_NAME = \"medium_articles\"\n",
    "\n",
    "articles_dict = prepare_medium_articles_data(DATA_PATH)\n",
    "\n",
    "\n",
    "build_chroma_collection(\n",
    "    CHROMA_PATH,\n",
    "    COLLECTION_NAME,\n",
    "    EMBEDDING_FUNC_NAME,\n",
    "    articles_dict[\"ids\"],\n",
    "    articles_dict[\"documents\"],\n",
    "    articles_dict[\"metadatas\"]\n",
    ")\n"
   ]
  },
  {
   "cell_type": "code",
   "execution_count": 37,
   "id": "f03e7321",
   "metadata": {},
   "outputs": [
    {
     "data": {
      "text/plain": [
       "'9 Amazing Articles on Python ProgrammingA collection of our favorite pieces from the last year'"
      ]
     },
     "execution_count": 37,
     "metadata": {},
     "output_type": "execute_result"
    }
   ],
   "source": [
    "client = chromadb.PersistentClient(CHROMA_PATH)\n",
    "embedding_func = embedding_functions.SentenceTransformerEmbeddingFunction(\n",
    "        model_name=EMBEDDING_FUNC_NAME\n",
    "    )\n",
    "collection = client.get_collection(name=COLLECTION_NAME, embedding_function=embedding_func)\n",
    "\n",
    "query_texts=[\"Find me some best articles related to programming\"]\n",
    "\n",
    "best_articles = collection.query(\n",
    "    query_texts = query_texts,\n",
    "    n_results=5,\n",
    "    include=[\"documents\", \"distances\", \"metadatas\"]\n",
    ")\n",
    "\n",
    "best_articles[\"documents\"][0][0]"
   ]
  },
  {
   "cell_type": "code",
   "execution_count": 35,
   "id": "3662fe33",
   "metadata": {},
   "outputs": [
    {
     "data": {
      "text/plain": [
       "81053"
      ]
     },
     "execution_count": 35,
     "metadata": {},
     "output_type": "execute_result"
    }
   ],
   "source": [
    "collection.count()"
   ]
  },
  {
   "cell_type": "code",
   "execution_count": 38,
   "id": "ef9826ff",
   "metadata": {},
   "outputs": [
    {
     "name": "stdout",
     "output_type": "stream",
     "text": [
      "\n",
      "🔍 Query 1: \"Find me some best articles related to programming\"\n",
      "------------------------------------------------------------\n",
      "Result 1:\n",
      "📄 Document: 9 Amazing Articles on Python ProgrammingA collection of our favorite pieces from the last year\n",
      "📏 Distance: 0.3586\n",
      "\n",
      "Result 2:\n",
      "📄 Document: A graphical introduction to dynamic programmingA highly visual introduction to dynamic programming, and an overview of three separate problems utilizing dynamic programming\n",
      "📏 Distance: 0.3992\n",
      "\n",
      "Result 3:\n",
      "📄 Document: “The Art of Computer Programming” by Donald KnuthBill Gates doesn’t think most people can finish this book. I gave it a shot.\n",
      "📏 Distance: 0.4263\n",
      "\n",
      "Result 4:\n",
      "📄 Document: Top 5 Contemporary Software Engineering BooksIntro\n",
      "📏 Distance: 0.4314\n",
      "\n",
      "Result 5:\n",
      "📄 Document: What programming language should I learn?Answering one of the most commonly asked questions the right way\n",
      "📏 Distance: 0.4331\n",
      "\n"
     ]
    }
   ],
   "source": [
    "def display_query_results(query_texts, query_results):\n",
    "    for i, query in enumerate(query_texts):\n",
    "        print(f\"\\n🔍 Query {i + 1}: \\\"{query}\\\"\\n{'-' * 60}\")\n",
    "        documents = query_results[\"documents\"][i]\n",
    "        distances = query_results[\"distances\"][i]\n",
    "\n",
    "        for j, (doc, dist) in enumerate(zip(documents, distances), start=1):\n",
    "            print(f\"Result {j}:\")\n",
    "            print(f\"📄 Document: {doc}\")\n",
    "            print(f\"📏 Distance: {dist:.4f}\")\n",
    "            print()\n",
    "\n",
    "display_query_results(query_texts,  best_articles)"
   ]
  },
  {
   "cell_type": "code",
   "execution_count": 26,
   "id": "93fee774",
   "metadata": {},
   "outputs": [
    {
     "data": {
      "text/plain": [
       "[{'category': 'work',\n",
       "  'title': '\"21 Conversations\" - A fun (and easy) game for teams to get to know each other',\n",
       "  'subtitle': 'A (new?) Icebreaker game to get your team to say all the interesting stuff',\n",
       "  'subtitle_truncated_flag': False},\n",
       " {'category': 'spirituality',\n",
       "  'title': '\"Biblical Porn\" at Mars Hill',\n",
       "  'subtitle': \"Author and UW lecturer Jessica Johnson talks about her new book on Mars Hill Church's and Mark Driscoll's evangelical masculinity\",\n",
       "  'subtitle_truncated_flag': False}]"
      ]
     },
     "execution_count": 26,
     "metadata": {},
     "output_type": "execute_result"
    }
   ],
   "source": [
    "articles_dict['metadatas'][:2]"
   ]
  },
  {
   "cell_type": "code",
   "execution_count": null,
   "id": "0fc94fbf",
   "metadata": {},
   "outputs": [],
   "source": []
  },
  {
   "cell_type": "code",
   "execution_count": null,
   "id": "2aff487c",
   "metadata": {},
   "outputs": [],
   "source": []
  },
  {
   "cell_type": "code",
   "execution_count": 45,
   "id": "17c30b5f",
   "metadata": {},
   "outputs": [],
   "source": [
    "test_df = df.copy()\n",
    "test_df['metadata'] = test_df.apply(lambda x: {\n",
    "    'title' : x['title'],\n",
    "    'subtitle': x['subtitle'],\n",
    "    'category': x['category']\n",
    "    \n",
    "}, axis=1)\n"
   ]
  },
  {
   "cell_type": "code",
   "execution_count": 46,
   "id": "db37a4d4",
   "metadata": {},
   "outputs": [
    {
     "data": {
      "application/vnd.microsoft.datawrangler.viewer.v0+json": {
       "columns": [
        {
         "name": "index",
         "rawType": "int64",
         "type": "integer"
        },
        {
         "name": "category",
         "rawType": "object",
         "type": "string"
        },
        {
         "name": "title",
         "rawType": "object",
         "type": "string"
        },
        {
         "name": "subtitle",
         "rawType": "object",
         "type": "string"
        },
        {
         "name": "subtitle_truncated_flag",
         "rawType": "bool",
         "type": "boolean"
        },
        {
         "name": "title_extended",
         "rawType": "object",
         "type": "string"
        },
        {
         "name": "metadata",
         "rawType": "object",
         "type": "unknown"
        }
       ],
       "conversionMethod": "pd.DataFrame",
       "ref": "5e531935-4f4b-4a8f-9939-ac52c89ece7a",
       "rows": [
        [
         "0",
         "work",
         "\"21 Conversations\" - A fun (and easy) game for teams to get to know each other",
         "A (new?) Icebreaker game to get your team to say all the interesting stuff",
         "False",
         "\"21 Conversations\" - A fun (and easy) game for teams to get to know each otherA (new?) Icebreaker game to get your team to say all the interesting stuff",
         "{'title': '\"21 Conversations\" - A fun (and easy) game for teams to get to know each other', 'subtitle': 'A (new?) Icebreaker game to get your team to say all the interesting stuff', 'category': 'work'}"
        ],
        [
         "1",
         "spirituality",
         "\"Biblical Porn\" at Mars Hill",
         "Author and UW lecturer Jessica Johnson talks about her new book on Mars Hill Church's and Mark Driscoll's evangelical masculinity",
         "False",
         "\"Biblical Porn\" at Mars HillAuthor and UW lecturer Jessica Johnson talks about her new book on Mars Hill Church's and Mark Driscoll's evangelical masculinity",
         "{'title': '\"Biblical Porn\" at Mars Hill', 'subtitle': \"Author and UW lecturer Jessica Johnson talks about her new book on Mars Hill Church's and Mark Driscoll's evangelical masculinity\", 'category': 'spirituality'}"
        ],
        [
         "2",
         "lgbtqia",
         "\"CISGENDER?! Is That A Disease?!\"",
         "Or, a primer in gender vocabulary for the curious-minded",
         "False",
         "\"CISGENDER?! Is That A Disease?!\"Or, a primer in gender vocabulary for the curious-minded",
         "{'title': '\"CISGENDER?! Is That A Disease?!\"', 'subtitle': 'Or, a primer in gender vocabulary for the curious-minded', 'category': 'lgbtqia'}"
        ],
        [
         "4",
         "artificial-intelligence",
         "\"Can I Train my Model on Your Computer?\"",
         "How we waste computational resources and how to stop it.",
         "False",
         "\"Can I Train my Model on Your Computer?\"How we waste computational resources and how to stop it.",
         "{'title': '\"Can I Train my Model on Your Computer?\"', 'subtitle': 'How we waste computational resources and how to stop it.', 'category': 'artificial-intelligence'}"
        ],
        [
         "5",
         "cryptocurrency",
         "\"Cypherpunks and Wall Street\": The Security Token Revolution & Regulation",
         "Bruce Fenton presents at the World Blockchain Forum - and will cryptocurrency bring us to utopia or dystopia?",
         "False",
         "\"Cypherpunks and Wall Street\": The Security Token Revolution & RegulationBruce Fenton presents at the World Blockchain Forum - and will cryptocurrency bring us to utopia or dystopia?",
         "{'title': '\"Cypherpunks and Wall Street\": The Security Token Revolution & Regulation', 'subtitle': 'Bruce Fenton presents at the World Blockchain Forum\\u200a-\\u200aand will cryptocurrency bring us to utopia or dystopia?', 'category': 'cryptocurrency'}"
        ]
       ],
       "shape": {
        "columns": 6,
        "rows": 5
       }
      },
      "text/html": [
       "<div>\n",
       "<style scoped>\n",
       "    .dataframe tbody tr th:only-of-type {\n",
       "        vertical-align: middle;\n",
       "    }\n",
       "\n",
       "    .dataframe tbody tr th {\n",
       "        vertical-align: top;\n",
       "    }\n",
       "\n",
       "    .dataframe thead th {\n",
       "        text-align: right;\n",
       "    }\n",
       "</style>\n",
       "<table border=\"1\" class=\"dataframe\">\n",
       "  <thead>\n",
       "    <tr style=\"text-align: right;\">\n",
       "      <th></th>\n",
       "      <th>category</th>\n",
       "      <th>title</th>\n",
       "      <th>subtitle</th>\n",
       "      <th>subtitle_truncated_flag</th>\n",
       "      <th>title_extended</th>\n",
       "      <th>metadata</th>\n",
       "    </tr>\n",
       "  </thead>\n",
       "  <tbody>\n",
       "    <tr>\n",
       "      <th>0</th>\n",
       "      <td>work</td>\n",
       "      <td>\"21 Conversations\" - A fun (and easy) game for...</td>\n",
       "      <td>A (new?) Icebreaker game to get your team to s...</td>\n",
       "      <td>False</td>\n",
       "      <td>\"21 Conversations\" - A fun (and easy) game for...</td>\n",
       "      <td>{'title': '\"21 Conversations\" - A fun (and eas...</td>\n",
       "    </tr>\n",
       "    <tr>\n",
       "      <th>1</th>\n",
       "      <td>spirituality</td>\n",
       "      <td>\"Biblical Porn\" at Mars Hill</td>\n",
       "      <td>Author and UW lecturer Jessica Johnson talks a...</td>\n",
       "      <td>False</td>\n",
       "      <td>\"Biblical Porn\" at Mars HillAuthor and UW lect...</td>\n",
       "      <td>{'title': '\"Biblical Porn\" at Mars Hill', 'sub...</td>\n",
       "    </tr>\n",
       "    <tr>\n",
       "      <th>2</th>\n",
       "      <td>lgbtqia</td>\n",
       "      <td>\"CISGENDER?! Is That A Disease?!\"</td>\n",
       "      <td>Or, a primer in gender vocabulary for the curi...</td>\n",
       "      <td>False</td>\n",
       "      <td>\"CISGENDER?! Is That A Disease?!\"Or, a primer ...</td>\n",
       "      <td>{'title': '\"CISGENDER?! Is That A Disease?!\"',...</td>\n",
       "    </tr>\n",
       "    <tr>\n",
       "      <th>4</th>\n",
       "      <td>artificial-intelligence</td>\n",
       "      <td>\"Can I Train my Model on Your Computer?\"</td>\n",
       "      <td>How we waste computational resources and how t...</td>\n",
       "      <td>False</td>\n",
       "      <td>\"Can I Train my Model on Your Computer?\"How we...</td>\n",
       "      <td>{'title': '\"Can I Train my Model on Your Compu...</td>\n",
       "    </tr>\n",
       "    <tr>\n",
       "      <th>5</th>\n",
       "      <td>cryptocurrency</td>\n",
       "      <td>\"Cypherpunks and Wall Street\": The Security To...</td>\n",
       "      <td>Bruce Fenton presents at the World Blockchain ...</td>\n",
       "      <td>False</td>\n",
       "      <td>\"Cypherpunks and Wall Street\": The Security To...</td>\n",
       "      <td>{'title': '\"Cypherpunks and Wall Street\": The ...</td>\n",
       "    </tr>\n",
       "  </tbody>\n",
       "</table>\n",
       "</div>"
      ],
      "text/plain": [
       "                  category                                              title  \\\n",
       "0                     work  \"21 Conversations\" - A fun (and easy) game for...   \n",
       "1             spirituality                       \"Biblical Porn\" at Mars Hill   \n",
       "2                  lgbtqia                  \"CISGENDER?! Is That A Disease?!\"   \n",
       "4  artificial-intelligence           \"Can I Train my Model on Your Computer?\"   \n",
       "5           cryptocurrency  \"Cypherpunks and Wall Street\": The Security To...   \n",
       "\n",
       "                                            subtitle  subtitle_truncated_flag  \\\n",
       "0  A (new?) Icebreaker game to get your team to s...                    False   \n",
       "1  Author and UW lecturer Jessica Johnson talks a...                    False   \n",
       "2  Or, a primer in gender vocabulary for the curi...                    False   \n",
       "4  How we waste computational resources and how t...                    False   \n",
       "5  Bruce Fenton presents at the World Blockchain ...                    False   \n",
       "\n",
       "                                      title_extended  \\\n",
       "0  \"21 Conversations\" - A fun (and easy) game for...   \n",
       "1  \"Biblical Porn\" at Mars HillAuthor and UW lect...   \n",
       "2  \"CISGENDER?! Is That A Disease?!\"Or, a primer ...   \n",
       "4  \"Can I Train my Model on Your Computer?\"How we...   \n",
       "5  \"Cypherpunks and Wall Street\": The Security To...   \n",
       "\n",
       "                                            metadata  \n",
       "0  {'title': '\"21 Conversations\" - A fun (and eas...  \n",
       "1  {'title': '\"Biblical Porn\" at Mars Hill', 'sub...  \n",
       "2  {'title': '\"CISGENDER?! Is That A Disease?!\"',...  \n",
       "4  {'title': '\"Can I Train my Model on Your Compu...  \n",
       "5  {'title': '\"Cypherpunks and Wall Street\": The ...  "
      ]
     },
     "execution_count": 46,
     "metadata": {},
     "output_type": "execute_result"
    }
   ],
   "source": [
    "test_df.head()\n"
   ]
  },
  {
   "cell_type": "markdown",
   "id": "1cd3dc80",
   "metadata": {},
   "source": [
    "### Query"
   ]
  },
  {
   "cell_type": "code",
   "execution_count": 41,
   "id": "cd7b92f0",
   "metadata": {},
   "outputs": [],
   "source": [
    "query_texts = [\"which city is the most beautiful\"]\n",
    "\n",
    "output = collection.query(\n",
    "    query_texts = query_texts,\n",
    "    n_results=5,\n",
    "    include=[\"documents\", \"distances\", \"metadatas\", \"embeddings\"]\n",
    ")\n",
    "\n",
    "retrieved_docs = output[\"documents\"][0]"
   ]
  },
  {
   "cell_type": "code",
   "execution_count": 42,
   "id": "3951471d",
   "metadata": {},
   "outputs": [
    {
     "data": {
      "text/plain": [
       "['The 5 Best Cities For Street ArtIncredible murals around the globe',\n",
       " '3 Places Where You Can Find BeautyIf you are willing to look hard enough, eventually you will see beauty in the most difficult of places.',\n",
       " 'For The Simple Beauties Of Life\\u200a—\\u200aPhotosAutumn In The North, All The More Beautiful For Its Brevity',\n",
       " 'A City That’s Better for the Blind Is Better for EveryoneComplete parity with the sighted may seem like an impossible goal, but maybe the only thing holding us back is a lack of imagination.',\n",
       " 'The Poetry and History of CitiesFar from being a soulless commercial center, the city is the most intense expression of humanity around.']"
      ]
     },
     "execution_count": 42,
     "metadata": {},
     "output_type": "execute_result"
    }
   ],
   "source": [
    "retrieved_docs"
   ]
  },
  {
   "cell_type": "code",
   "execution_count": null,
   "id": "70126ac7",
   "metadata": {},
   "outputs": [],
   "source": [
    "https://python.langchain.com/docs/integrations/chat/google_generative_ai/"
   ]
  }
 ],
 "metadata": {
  "kernelspec": {
   "display_name": "Python 3",
   "language": "python",
   "name": "python3"
  },
  "language_info": {
   "codemirror_mode": {
    "name": "ipython",
    "version": 3
   },
   "file_extension": ".py",
   "mimetype": "text/x-python",
   "name": "python",
   "nbconvert_exporter": "python",
   "pygments_lexer": "ipython3",
   "version": "3.11.11"
  }
 },
 "nbformat": 4,
 "nbformat_minor": 5
}
