{
 "cells": [
  {
   "cell_type": "code",
   "execution_count": null,
   "id": "e92da08c",
   "metadata": {},
   "outputs": [],
   "source": [
    "\n",
    "import time\n",
    "\n",
    "def task(name, seconds):\n",
    "    print(f\"{name}: Started\")\n",
    "    time.sleep(seconds)\n",
    "    print(f\"{name}: Finished after {seconds} sec.\")\n",
    "\n",
    "\n",
    "def main():\n",
    "    task(\"Task A\", 2)\n",
    "    task(\"Task B\", 3)\n",
    "    task(\"Task 3\", 1)\n",
    "\n",
    "main()\n",
    "\n"
   ]
  },
  {
   "cell_type": "code",
   "execution_count": null,
   "id": "3458ca65",
   "metadata": {},
   "outputs": [],
   "source": [
    "\n",
    "import asyncio\n",
    "\n",
    "async def task(name, seconds):\n",
    "    print(f\"{name}: Started\")\n",
    "    await asyncio.sleep(seconds)\n",
    "    print(f\"{name}: Finished after {seconds} sec\")\n",
    "\n",
    "async def main():\n",
    "    await asyncio.gather(\n",
    "        task(\"Task A\", 6),\n",
    "        task(\"Task B\", 5),\n",
    "        task(\"Task C\", 3)\n",
    "    )\n",
    "\n",
    "asyncio.run(main())"
   ]
  },
  {
   "cell_type": "markdown",
   "id": "c307411d",
   "metadata": {},
   "source": [
    "## Why Asynchronous Programming?\n",
    "\n",
    "In traditional (synchronous) Python code, tasks are executed **one after the other**. If one task takes time (like waiting for a file to load or a server to respond), the entire program is **blocked** until it completes.\n",
    "\n",
    "**Asynchronous programming** allows multiple tasks to run concurrently by \"pausing\" and \"resuming\" based on availability of resources (typically I/O). This leads to efficient usage of time and resources, especially when dealing with I/O-bound operations."
   ]
  },
  {
   "cell_type": "markdown",
   "id": "2c86c1e7",
   "metadata": {},
   "source": []
  },
  {
   "cell_type": "markdown",
   "id": "2c25e6de",
   "metadata": {},
   "source": [
    "## Core Concepts\n",
    "\n",
    "### 1. Coroutines\n",
    "\n",
    "A **coroutine** is a special function that can **pause** and **resume** its execution.\n",
    "\n",
    "Defined using:\n",
    "\n",
    "```python\n",
    "async def my_function():\n",
    "    ...\n",
    "```\n",
    "\n",
    "Coroutines don’t run until they are awaited or scheduled in an event loop.\n",
    "\n",
    "Example:\n",
    "\n",
    "```python\n",
    "async def greet():\n",
    "    print(\"Hello\")\n",
    "    await asyncio.sleep(1)\n",
    "    print(\"World\")\n",
    "```\n"
   ]
  },
  {
   "cell_type": "markdown",
   "id": "14eb1e6d",
   "metadata": {},
   "source": [
    "### 2. `await`\n",
    "\n",
    "`await` is used **inside an `async def` function** to **pause** that function until the awaited task completes. This only works with **awaitable** objects (usually other coroutines or `asyncio` methods).\n",
    "\n",
    "Example:\n",
    "\n",
    "```python\n",
    "await asyncio.sleep(2)  # Pauses this coroutine for 2 seconds without blocking others\n",
    "```\n",
    "\n",
    "When a coroutine `await`s something:\n",
    "\n",
    "- It yields control back to the event loop.\n",
    "    \n",
    "- The event loop continues executing other ready tasks.\n",
    "    \n",
    "- After the awaited operation finishes, control returns to the paused coroutine.\n",
    "    "
   ]
  },
  {
   "cell_type": "markdown",
   "id": "92621641",
   "metadata": {},
   "source": [
    "## Key Insight: Python's Async Model\n",
    "\n",
    "Python's `asyncio` is **single-threaded** and based on an **event loop**.\n",
    "\n",
    "- It runs coroutines concurrently using **cooperative multitasking**.\n",
    "    \n",
    "- Each coroutine **voluntarily gives up control** by using `await`.\n",
    "    \n",
    "\n",
    "This is not parallelism (like with threads), but **concurrent scheduling** of tasks."
   ]
  },
  {
   "cell_type": "markdown",
   "id": "1f56fcd5",
   "metadata": {},
   "source": [
    "## When Should You Use `await`?\n",
    "\n",
    "Use `await` when you're dealing with **I/O-bound** tasks:\n",
    "\n",
    "- Network requests (APIs)\n",
    "    \n",
    "- File I/O (if using async-friendly libraries)\n",
    "    \n",
    "- Database queries\n",
    "    \n",
    "- Timers or delays"
   ]
  },
  {
   "cell_type": "markdown",
   "id": "15a0c825",
   "metadata": {},
   "source": [
    "Avoid using `await` for **CPU-bound** tasks (e.g., heavy computations) — these should use threads or processes.\n",
    "\n",
    "|Task|Use `await`?|Reason|\n",
    "|---|---|---|\n",
    "|API Call|Yes|Waiting for server response|\n",
    "|Async File Read|Yes|Disk I/O|\n",
    "|`asyncio.sleep()`|Yes|Timed pause (non-blocking)|\n",
    "|Heavy Computation|No|Blocks event loop|\n"
   ]
  },
  {
   "cell_type": "code",
   "execution_count": 1,
   "id": "8314ded6",
   "metadata": {},
   "outputs": [
    {
     "name": "stdout",
     "output_type": "stream",
     "text": [
      "Task A started\n",
      "Task B started\n",
      "Task B finished\n",
      "Task A finished\n"
     ]
    },
    {
     "data": {
      "text/plain": [
       "[None, None]"
      ]
     },
     "execution_count": 1,
     "metadata": {},
     "output_type": "execute_result"
    }
   ],
   "source": [
    "import asyncio\n",
    "\n",
    "async def task_a():\n",
    "    print(\"Task A started\")\n",
    "    await asyncio.sleep(3)\n",
    "    print(\"Task A finished\")\n",
    "\n",
    "async def task_b():\n",
    "    print(\"Task B started\")\n",
    "    await asyncio.sleep(2)\n",
    "    print(\"Task B finished\")\n",
    "\n",
    "await asyncio.gather(task_a(), task_b())"
   ]
  },
  {
   "cell_type": "markdown",
   "id": "c6ddf511",
   "metadata": {},
   "source": [
    "## Common Asyncio Tools\n",
    "\n",
    "- `asyncio.run()` — runs the event loop for you\n",
    "    \n",
    "- `asyncio.gather()` — run multiple coroutines concurrently\n",
    "    \n",
    "- `asyncio.sleep()` — async version of `time.sleep()` (non-blocking)"
   ]
  },
  {
   "cell_type": "code",
   "execution_count": null,
   "id": "ff849dee",
   "metadata": {},
   "outputs": [
    {
     "name": "stdout",
     "output_type": "stream",
     "text": [
      "Sequential requests completed in 0.24 seconds\n",
      "Received 5 responses\n"
     ]
    }
   ],
   "source": [
    "import requests\n",
    "import time\n",
    "\n",
    "urls = [\n",
    "    \"https://jsonplaceholder.typicode.com/posts/1\",\n",
    "    \"https://jsonplaceholder.typicode.com/posts/2\",\n",
    "    \"https://jsonplaceholder.typicode.com/posts/3\",\n",
    "    \"https://jsonplaceholder.typicode.com/comments?postId=1\",\n",
    "    \"https://jsonplaceholder.typicode.com/albums/1\"\n",
    "]\n",
    "\n",
    "\n",
    "\n",
    "def fetch_data_sequential(urls):\n",
    "    results = []\n",
    "    start_time = time.time()\n",
    "    \n",
    "    for url in urls:\n",
    "        response = requests.get(url)\n",
    "        if response.status_code == 200:\n",
    "            results.append(response.json())\n",
    "    \n",
    "    elapsed = time.time() - start_time\n",
    "    print(f\"Sequential requests completed in {elapsed:.2f} seconds\")\n",
    "    return results\n",
    "\n",
    "\n",
    "results = fetch_data_sequential(urls)\n",
    "print(f\"Received {len(results)} responses\")"
   ]
  },
  {
   "cell_type": "code",
   "execution_count": null,
   "id": "c8e7cf6e",
   "metadata": {},
   "outputs": [],
   "source": [
    "\n",
    "# create a .py file for the below code.\n",
    "\n",
    "import time\n",
    "import asyncio\n",
    "import aiohttp\n",
    "\n",
    "\n",
    "urls = [\n",
    "    \"https://jsonplaceholder.typicode.com/posts/1\",\n",
    "    \"https://jsonplaceholder.typicode.com/posts/2\",\n",
    "    \"https://jsonplaceholder.typicode.com/posts/3\",\n",
    "    \"https://jsonplaceholder.typicode.com/comments?postId=1\",\n",
    "    \"https://jsonplaceholder.typicode.com/albums/1\"\n",
    "]\n",
    "\n",
    "async def fetch_url(session, url):\n",
    "    async with session.get(url) as response:\n",
    "        if response.status == 200:\n",
    "            return await response.json()\n",
    "        return None\n",
    "\n",
    "async def fetch_data_async(urls):\n",
    "    async with aiohttp.ClientSession() as session:\n",
    "        tasks = [fetch_url(session, url) for url in urls]\n",
    "        return await asyncio.gather(*tasks)\n",
    "\n",
    "async def main():\n",
    "    start_time = time.time()\n",
    "    results = await fetch_data_async(urls)\n",
    "    \n",
    "    elapsed = time.time() - start_time\n",
    "    print(f\"Async requests completed in {elapsed:.2f} seconds\")\n",
    "    print(f\"Received {len([r for r in results if r is not None])} responses\")\n",
    "\n",
    "if __name__ == \"__main__\":\n",
    "   \n",
    "    print(\"\\nRunning async version now:\")\n",
    "    asyncio.run(main())\n",
    "\n"
   ]
  },
  {
   "cell_type": "code",
   "execution_count": null,
   "id": "557fc1bf",
   "metadata": {},
   "outputs": [],
   "source": []
  }
 ],
 "metadata": {
  "kernelspec": {
   "display_name": "llms",
   "language": "python",
   "name": "python3"
  },
  "language_info": {
   "codemirror_mode": {
    "name": "ipython",
    "version": 3
   },
   "file_extension": ".py",
   "mimetype": "text/x-python",
   "name": "python",
   "nbconvert_exporter": "python",
   "pygments_lexer": "ipython3",
   "version": "3.11.11"
  }
 },
 "nbformat": 4,
 "nbformat_minor": 5
}
